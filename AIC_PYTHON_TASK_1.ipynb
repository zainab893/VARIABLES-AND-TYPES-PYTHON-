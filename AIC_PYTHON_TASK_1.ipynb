{
  "nbformat": 4,
  "nbformat_minor": 0,
  "metadata": {
    "colab": {
      "provenance": []
    },
    "kernelspec": {
      "name": "python3",
      "display_name": "Python 3"
    },
    "language_info": {
      "name": "python"
    }
  },
  "cells": [
    {
      "cell_type": "code",
      "execution_count": null,
      "metadata": {
        "id": "_ko0ts5tc0mp"
      },
      "outputs": [],
      "source": [
        "# SYEDA ZAINAB FATIMA\n",
        "# WS25-PAK-INP-A1-01\n",
        "# VARIABLES (TASK 1)"
      ]
    },
    {
      "cell_type": "code",
      "source": [
        "# STRINGS\n",
        "Planet_1=\"Mercury\"\n",
        "Planet_2=\"Venus\"\n",
        "Planet_3=\"Earth\"\n",
        "Planet_4=\"Mars\"\n",
        "Planet_5=\"Jupyter\"\n",
        "Planet_6=\"Saturn\"\n",
        "Planet_7=\"Uranus\"\n",
        "Planet_8=\"Neptune\"\n",
        "Planet_9=\"Pluto\"\n",
        "Planet_10=\"Sun\"\n",
        "Star_1 = \"Castor\"\n",
        "Star_2 = \"Capella\"\n",
        "Star_3 = \"Arneb\"\n",
        "Star_4 = \"Bellatrix\"\n",
        "Star_5 = \"polaris\"\n",
        "Star_6 = \"Procyon\"\n",
        "Star_7 = \"Proxima\"\n",
        "Star_8 = \"Sirius\"\n",
        "Star_9 = \"vega\"\n",
        "Star_10 = \"zaurak\"\n",
        "\n",
        "print(Planet_1)\n",
        "print(Planet_2)\n",
        "print(Planet_3)\n",
        "print(Planet_4)\n",
        "print(Planet_5)\n",
        "print(Planet_6)\n",
        "print(Planet_7)\n",
        "print(Planet_8)\n",
        "print(Planet_9)\n",
        "print(Planet_10)\n",
        "print(Star_1)\n",
        "print(Star_2)\n",
        "print(Star_3)\n",
        "print(Star_4)\n",
        "print(Star_5)\n",
        "print(Star_6)\n",
        "print(Star_7)\n",
        "print(Star_8)\n",
        "print(Star_9)\n",
        "print(Star_10)\n",
        "\n",
        "\n",
        "type(Planet_1)\n",
        "type(Star_1)\n"
      ],
      "metadata": {
        "colab": {
          "base_uri": "https://localhost:8080/"
        },
        "id": "IcYh_D-_dXCh",
        "outputId": "3d9f1b66-fc45-4a4d-8edc-14c259c5cbb6"
      },
      "execution_count": null,
      "outputs": [
        {
          "output_type": "stream",
          "name": "stdout",
          "text": [
            "Mercury\n",
            "Venus\n",
            "Earth\n",
            "Mars\n",
            "Jupyter\n",
            "Saturn\n",
            "Uranus\n",
            "Neptune\n",
            "Pluto\n",
            "Sun\n",
            "Castor\n",
            "Capella\n",
            "Arneb\n",
            "Bellatrix\n",
            "polaris\n",
            "Procyon\n",
            "Proxima\n",
            "Sirius\n",
            "vega\n",
            "zaurak\n"
          ]
        },
        {
          "output_type": "execute_result",
          "data": {
            "text/plain": [
              "str"
            ]
          },
          "metadata": {},
          "execution_count": 2
        }
      ]
    },
    {
      "cell_type": "code",
      "source": [
        "# FLOAT\n",
        "AU_Earth= 1.00\n",
        "AU_Jupiter= 5.20\n",
        "AU_Mars= 1.52\n",
        "AU_Mercury= 0.39\n",
        "AU_Neptune= 30.06\n",
        "AU_Saturn= 9.54\n",
        "AU_Uranus= 19.22\n",
        "AU_Venus= 0.72\n",
        "AU_Pluto= 39.0\n",
        "AU_Sun= 149.7\n",
        "AU_Castor = 3,259,911.5\n",
        "AU_Capella = 2,713,642.9\n",
        "AU_Arneb = 82,213,300.0\n",
        "AU_Bellatrix = 15,177,840.0\n",
        "AU_Polaris = 20,426,443.0\n",
        "AU_Procyon =  727,271.5\n",
        "AU_Proxima = 268,332.8\n",
        "AU_Sirius = 544,272.6\n",
        "AU_Vega = 1,581,025.0\n",
        "AU_Zaurak = 12,831,923.0\n",
        "\n",
        "\n",
        "print(AU_Earth)\n",
        "print(AU_Jupiter)\n",
        "print(AU_Mars)\n",
        "print(AU_Mercury)\n",
        "print(AU_Neptune)\n",
        "print(AU_Saturn)\n",
        "print(AU_Uranus)\n",
        "print(AU_Venus)\n",
        "print(AU_Pluto)\n",
        "print(AU_Sun)\n",
        "print(AU_Castor)\n",
        "print(AU_Capella)\n",
        "print(AU_Arneb)\n",
        "print(AU_Bellatrix)\n",
        "print(AU_Polaris)\n",
        "print(AU_Procyon)\n",
        "print(AU_Proxima)\n",
        "print(AU_Sirius)\n",
        "\n",
        "type(AU_Earth)"
      ],
      "metadata": {
        "colab": {
          "base_uri": "https://localhost:8080/"
        },
        "id": "gNua-zs7dbXL",
        "outputId": "6465392b-4c6c-4245-a5a0-72ebb74596b8"
      },
      "execution_count": null,
      "outputs": [
        {
          "output_type": "stream",
          "name": "stdout",
          "text": [
            "1.0\n",
            "5.2\n",
            "1.52\n",
            "0.39\n",
            "30.06\n",
            "9.54\n",
            "19.22\n",
            "0.72\n",
            "39.0\n",
            "149.7\n",
            "(3, 259, 911.5)\n",
            "(2, 713, 642.9)\n",
            "(82, 213, 300.0)\n",
            "(15, 177, 840.0)\n",
            "(20, 426, 443.0)\n",
            "(727, 271.5)\n",
            "(268, 332.8)\n",
            "(544, 272.6)\n"
          ]
        },
        {
          "output_type": "execute_result",
          "data": {
            "text/plain": [
              "float"
            ]
          },
          "metadata": {},
          "execution_count": 3
        }
      ]
    },
    {
      "cell_type": "code",
      "source": [
        "# INTEGER\n",
        "Diameter_Earth= 12756\n",
        "Diameter_Jupiter= 139820\n",
        "Diameter_Mars= 6779\n",
        "Diameter_Mercury= 4879\n",
        "Diameter_Neptune= 49244\n",
        "Diameter_Saturn= 116460\n",
        "Diameter_Uranus= 50724\n",
        "Diameter_Venus= 12104\n",
        "Diameter_Pluto= 2376\n",
        "Diameter_Sun= 1392700\n",
        "Diameter_Castor =  1,680,000\n",
        "Diameter_Capella =  1,750,000\n",
        "Diameter_Arneb = 52,500,000\n",
        "Diameter_Bellatrix = 3,500,000\n",
        "Diameter_Polaris = 30,800,000\n",
        "Diameter_Procyon =  1,50,000\n",
        "Diameter_Proxima = 98,000\n",
        "Diameter_Sirius = 1,190,000\n",
        "Diameter_Vega =  1,680,000\n",
        "Diameter_Zaurak = 1,50,000\n",
        "\n",
        "print(Diameter_Earth)\n",
        "print(Diameter_Jupiter)\n",
        "print(Diameter_Mars)\n",
        "print(Diameter_Mercury)\n",
        "print(Diameter_Neptune)\n",
        "print(Diameter_Saturn)\n",
        "print(Diameter_Uranus)\n",
        "print(Diameter_Venus)\n",
        "print(Diameter_Pluto)\n",
        "print(Diameter_Sun)\n",
        "print(Diameter_Castor)\n",
        "print(Diameter_Capella)\n",
        "print(Diameter_Arneb)\n",
        "print(Diameter_Bellatrix)\n",
        "print(Diameter_Polaris)\n",
        "print(Diameter_Procyon)\n",
        "print(Diameter_Proxima)\n",
        "print(Diameter_Sirius)\n",
        "print(Diameter_Vega)\n",
        "print(Diameter_Zaurak)\n",
        "\n",
        "type(Diameter_Earth)"
      ],
      "metadata": {
        "colab": {
          "base_uri": "https://localhost:8080/"
        },
        "id": "t9Z84Rebdbfc",
        "outputId": "cc2ffad3-a843-4615-9337-fffc17548874"
      },
      "execution_count": null,
      "outputs": [
        {
          "output_type": "stream",
          "name": "stdout",
          "text": [
            "12756\n",
            "139820\n",
            "6779\n",
            "4879\n",
            "49244\n",
            "116460\n",
            "50724\n",
            "12104\n",
            "2376\n",
            "1392700\n",
            "(1, 680, 0)\n",
            "(1, 750, 0)\n",
            "(52, 500, 0)\n",
            "(3, 500, 0)\n",
            "(30, 800, 0)\n",
            "(1, 50, 0)\n",
            "(98, 0)\n",
            "(1, 190, 0)\n",
            "(1, 680, 0)\n",
            "(1, 50, 0)\n"
          ]
        },
        {
          "output_type": "execute_result",
          "data": {
            "text/plain": [
              "int"
            ]
          },
          "metadata": {},
          "execution_count": 4
        }
      ]
    },
    {
      "cell_type": "code",
      "source": [
        "#BOOLEAN\n",
        "is_mercury_hottest = False\n",
        "is_venus_retrograde = True\n",
        "is_earth_only_with_liquid_water = True\n",
        "is_mars_blueplanet = False\n",
        "is_jupyter_largest = True\n",
        "is_saturn_only_with_rings = True\n",
        "does_uranus_rotate_on_side = True\n",
        "is_neptune_farthest = True\n",
        "is_saturn_closest_to_sun = False\n",
        "is_uranus_warmer_than_earth = False\n",
        "is_earth_largest_planet = False\n",
        "castor_diameter_larger_than_sun = True\n",
        "capella_diameter_larger_than_sun = True\n",
        "arneb_diameter_larger_than_sun = True\n",
        "bellatrix_diameter_larger_than_sun = True\n",
        "polaris_diameter_larger_than_sun = True\n",
        "procyon_diameter_larger_than_sun = False\n",
        "proxima_diameter_larger_than_sun = False\n",
        "sirius_diameter_larger_than_sun = False\n",
        "vega_diameter_larger_than_sun = True\n",
        "\n",
        "\n",
        "print(is_mercury_hottest)\n",
        "print(is_venus_retrograde)\n",
        "print(is_earth_only_with_liquid_water)\n",
        "print(is_mars_blueplanet)\n",
        "print(is_jupyter_largest)\n",
        "print(is_saturn_only_with_rings)\n",
        "print(does_uranus_rotate_on_side)\n",
        "print(is_neptune_farthest)\n",
        "print(is_saturn_closest_to_sun)\n",
        "print(is_uranus_warmer_than_earth)\n",
        "print(is_earth_largest_planet)\n",
        "print(castor_diameter_larger_than_sun)\n",
        "print(capella_diameter_larger_than_sun)\n",
        "print(arneb_diameter_larger_than_sun)\n",
        "print(bellatrix_diameter_larger_than_sun)\n",
        "print(polaris_diameter_larger_than_sun)\n",
        "print(procyon_diameter_larger_than_sun)\n",
        "print(proxima_diameter_larger_than_sun)\n",
        "print(sirius_diameter_larger_than_sun)\n",
        "print(vega_diameter_larger_than_sun)\n",
        "\n",
        "type(is_mercury_hottest)"
      ],
      "metadata": {
        "colab": {
          "base_uri": "https://localhost:8080/"
        },
        "id": "_hDUHtAfdbkK",
        "outputId": "2f64084d-73ba-47b8-aac7-3f3b3dc52339"
      },
      "execution_count": null,
      "outputs": [
        {
          "output_type": "stream",
          "name": "stdout",
          "text": [
            "False\n",
            "True\n",
            "True\n",
            "False\n",
            "True\n",
            "True\n",
            "True\n",
            "True\n",
            "False\n",
            "False\n",
            "False\n",
            "True\n",
            "True\n",
            "True\n",
            "True\n",
            "True\n",
            "False\n",
            "False\n",
            "False\n",
            "True\n"
          ]
        },
        {
          "output_type": "execute_result",
          "data": {
            "text/plain": [
              "bool"
            ]
          },
          "metadata": {},
          "execution_count": 5
        }
      ]
    },
    {
      "cell_type": "code",
      "source": [],
      "metadata": {
        "id": "5TcuyzL_rOHn"
      },
      "execution_count": null,
      "outputs": []
    },
    {
      "cell_type": "code",
      "source": [],
      "metadata": {
        "id": "md2n5fQDrOcX"
      },
      "execution_count": null,
      "outputs": []
    }
  ]
}